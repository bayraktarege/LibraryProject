{
 "cells": [
  {
   "cell_type": "code",
   "execution_count": null,
   "metadata": {},
   "outputs": [],
   "source": [
    "from tqdm import trange\n",
    "from time import sleep\n",
    "import requests as re\n",
    "import openpyxl as xl\n",
    "from selenium import webdriver\n",
    "from selenium.webdriver.common.keys import Keys"
   ]
  },
  {
   "cell_type": "code",
   "execution_count": null,
   "metadata": {},
   "outputs": [],
   "source": [
    "driver = webdriver.Chrome()"
   ]
  },
  {
   "cell_type": "code",
   "execution_count": null,
   "metadata": {},
   "outputs": [],
   "source": [
    "bk = xl.load_workbook('data.xlsx')\n",
    "sheet = bk.active"
   ]
  },
  {
   "cell_type": "code",
   "execution_count": null,
   "metadata": {},
   "outputs": [],
   "source": [
    "def extractor(co):\n",
    "    i = 3\n",
    "    lis = list()\n",
    "    for i in range(3, 411):\n",
    "        lis.append(sheet.cell(row=i, column=co).value)\n",
    "        i += 1\n",
    "    return lis"
   ]
  },
  {
   "cell_type": "code",
   "execution_count": null,
   "metadata": {},
   "outputs": [],
   "source": [
    "names = extractor(2)"
   ]
  },
  {
   "cell_type": "code",
   "execution_count": null,
   "metadata": {},
   "outputs": [],
   "source": [
    "linkz = extractor(5)"
   ]
  },
  {
   "cell_type": "code",
   "execution_count": null,
   "metadata": {},
   "outputs": [],
   "source": [
    "words =['EUR', 'Readable', 'Corke']\n",
    "y = 0\n",
    "for y in trange(len(names)):\n",
    "    if y >= len(names):\n",
    "        break\n",
    "    site = re.get(linkz[y]).text\n",
    "    for word in words:\n",
    "        if word in site:\n",
    "            names.remove(names[y])\n",
    "            linkz.remove(linkz[y])\n",
    "        else:\n",
    "            y += 1\n",
    "            sleep(0.01)\n",
    "print(len(linkz))\n",
    "print(len(names))"
   ]
  },
  {
   "cell_type": "code",
   "execution_count": null,
   "metadata": {},
   "outputs": [],
   "source": [
    "book_links = list()\n",
    "z = 0\n",
    "for z in trange(len(linkz)):\n",
    "    driver.get(linkz[z])\n",
    "    data = (driver.find_element_by_partial_link_text(\"Download\").get_attribute('href'))\n",
    "    book_links.append(data)\n",
    "    z += 1\n",
    "    sleep(0.01)\n",
    "print(len(book_links))"
   ]
  },
  {
   "cell_type": "code",
   "execution_count": null,
   "metadata": {},
   "outputs": [],
   "source": [
    "for t in trange(len(book_links)):\n",
    "    r = re.get(book_links[t])\n",
    "    open(names[t] + '.pdf', 'wb').write(r.content)\n",
    "    sleep(0.01)"
   ]
  }
 ],
 "metadata": {
  "kernelspec": {
   "display_name": "Python 3",
   "language": "python",
   "name": "python3"
  },
  "language_info": {
   "codemirror_mode": {
    "name": "ipython",
    "version": 3
   },
   "file_extension": ".py",
   "mimetype": "text/x-python",
   "name": "python",
   "nbconvert_exporter": "python",
   "pygments_lexer": "ipython3",
   "version": "3.7.3"
  }
 },
 "nbformat": 4,
 "nbformat_minor": 2
}
